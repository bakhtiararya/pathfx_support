{
 "cells": [
  {
   "cell_type": "code",
   "execution_count": 5,
   "id": "070adff3",
   "metadata": {},
   "outputs": [],
   "source": [
    "import numpy as np\n",
    "import pandas as pd\n",
    "import os\n",
    "import sys\n",
    "import warnings\n",
    "import xlrd\n",
    "import itertools\n",
    "import pickle\n",
    "warnings.simplefilter(action='ignore', category=FutureWarning)\n",
    "import re\n",
    "np.random.seed(0)"
   ]
  },
  {
   "cell_type": "code",
   "execution_count": 6,
   "id": "c4590180",
   "metadata": {},
   "outputs": [],
   "source": [
    "\"\"\"\n",
    "Helper Functions\n",
    "\"\"\"\n",
    "\n",
    "# function checks if directory exists, if not it constructs it\n",
    "def check_directory_exists(dir_name):\n",
    "    if not os.path.exists(dir_name):\n",
    "        os.makedirs(dir_name)\n",
    "        \n",
    "# Read in Pickle File\n",
    "def read_pickle_file(file_path):\n",
    "    if not os.path.exists(file_path):\n",
    "        sys.exit(\"Can't locate input file %s\" % file_path)\n",
    "    return pd.read_pickle(file_path)\n",
    "\n",
    "def read_csv_file(file_path, input_sep=',', input_delimiter=None, input_index_col=None, input_dtype=None, input_delim_whitespace=False, input_low_memory=True):\n",
    "    return pd.read_csv(filepath_or_buffer=file_path, sep=input_sep, delimiter=None, index_col=input_index_col, dtype=input_dtype, delim_whitespace=input_delim_whitespace, low_memory=input_low_memory)"
   ]
  },
  {
   "cell_type": "code",
   "execution_count": null,
   "id": "88913c57-0c44-4235-8306-8be762113c41",
   "metadata": {},
   "outputs": [],
   "source": [
    "# ----- Database Analysis -----\n",
    "\n",
    "print(\"Running database_analysis.ipynb\\n\")\n",
    "%run ./database_analysis.ipynb\n",
    "print(\"\\nFinished Running database_analysis\\n\")"
   ]
  },
  {
   "cell_type": "code",
   "execution_count": 7,
   "id": "bbcf4c24-5cf9-4854-aac6-a3988d15f8bb",
   "metadata": {},
   "outputs": [
    {
     "name": "stdout",
     "output_type": "stream",
     "text": [
      "\n",
      "---- NOT LOWERCASED CORRECTED Info ----\n",
      "===========================================================================================================================================================\n",
      "Number of unique Drugs (names and DrugBank IDs) in Version 1: 12096\n",
      "Number of unique Drugs (names and DrugBank IDs) in Version 2: 14024\n",
      "Number of unique Drugs (names and DrugBank IDs) in both versions of the PathFX interaction databases (NOT LOWERCASED CORRECTED): 10958\n",
      "Number of unique Drugs (DrugBank ID only) in both versions of the PathFX interaction databases (NOT LOWERCASED CORRECTED): 5899\n",
      "\n",
      "---- LOWERCASED CORRECTED Info ----\n",
      "===========================================================================================================================================================\n",
      "Number of unique Drugs (names and DrugBank IDs) in Version 1: 12096\n",
      "Number of unique Drugs (names and DrugBank IDs) in Version 2: 14024\n",
      "Number of unique Drugs (names and DrugBank IDs) union in both versions of the PathFX interaction databases: 14884\n",
      "Number of unique Drugs (names and DrugBank IDs) intersecting in both versions of the PathFX interaction databases: 11236\n",
      "Number of unique Drugs (DrugBank ID only) in both versions of the PathFX interaction databases: 5899\n",
      "Number of unique Drugs (noncomplex name only) in both versions of the PathFX interaction databases: 2054\n",
      "\n"
     ]
    }
   ],
   "source": [
    "drug_intome_targets = read_pickle_file(\"important_database_files/drug_intome_targets.pkl\")\n",
    "pfxDB050620_dint = read_pickle_file(\"important_database_files/pfxDB050620_dint.pkl\")\n",
    "\n",
    "# opening drug-target dictionaries for both PathFX Versions  \n",
    "drug_db_dict_v1_keys = list(drug_intome_targets.keys())\n",
    "drug_db_dict_v2_keys = list(pfxDB050620_dint.keys())\n",
    "\n",
    "# Drug Intersection from both PathFX Versions\n",
    "all_unique_drugs_both_pathfx_versions_lst = list(set(drug_db_dict_v1_keys) & set(drug_db_dict_v2_keys))\n",
    "\n",
    "# Drugbank IDs from both PathFX Versions\n",
    "all_unique_drungbank_ids_both_pathfx_versions_lst = [drug for drug in all_unique_drugs_both_pathfx_versions_lst if drug[0:2] == \"DB\"]\n",
    "\n",
    "print()\n",
    "print(\"---- NOT LOWERCASED CORRECTED Info ----\")\n",
    "print(\"===========================================================================================================================================================\")\n",
    "print(\"Number of unique Drugs (names and DrugBank IDs) in Version 1:\", len(drug_intome_targets.keys()))\n",
    "print(\"Number of unique Drugs (names and DrugBank IDs) in Version 2:\", len(pfxDB050620_dint.keys()))\n",
    "print(\"Number of unique Drugs (names and DrugBank IDs) in both versions of the PathFX interaction databases (NOT LOWERCASED CORRECTED): \" + str(len(all_unique_drugs_both_pathfx_versions_lst)))\n",
    "print(\"Number of unique Drugs (DrugBank ID only) in both versions of the PathFX interaction databases (NOT LOWERCASED CORRECTED): \" + str(len(all_unique_drungbank_ids_both_pathfx_versions_lst)))\n",
    "print()\n",
    "\n",
    "\n",
    "cleaned_drug_intome_targets = read_pickle_file(\"output_database_analysis/cleaned_data_files/cleaned_drug_intome_targets.pkl\")\n",
    "cleaned_pfxDB050620_dint = read_pickle_file(\"output_database_analysis/cleaned_data_files/cleaned_pfxDB050620_dint.pkl\")\n",
    "\n",
    "all_drugs_union_pathfx_versions_lst = list(set(list(cleaned_drug_intome_targets)) | set(list(cleaned_pfxDB050620_dint)))\n",
    "all_drugs_union_pathfx_versions_lst.sort()\n",
    "\n",
    "all_drugs_intersecting_pathfx_versions_lst = list(set(list(cleaned_drug_intome_targets)) & set(list(cleaned_pfxDB050620_dint)))\n",
    "all_drugs_intersecting_pathfx_versions_lst.sort()\n",
    "\n",
    "all_drug_names_both_pathfx_versions_lst = [drug_name.lower() for drug_name in all_drugs_intersecting_pathfx_versions_lst if \"-\" not in drug_name and \"(\" not in drug_name and \" \" not in drug_name]\n",
    "all_drug_names_both_pathfx_versions_lst = list(set(all_drug_names_both_pathfx_versions_lst))\n",
    "all_drug_names_both_pathfx_versions_lst = [drug_name for drug_name in all_drug_names_both_pathfx_versions_lst if drug_name[0:2] != \"db\"]\n",
    "all_drug_names_both_pathfx_versions_lst.sort()\n",
    "\n",
    "all_unique_drungbank_ids_both_pathfx_versions_lst = [drug for drug in all_drugs_intersecting_pathfx_versions_lst if drug[0:2] == \"db\"]\n",
    "\n",
    "print(\"---- LOWERCASED CORRECTED Info ----\")\n",
    "print(\"===========================================================================================================================================================\")\n",
    "print(\"Number of unique Drugs (names and DrugBank IDs) in Version 1:\", len(cleaned_drug_intome_targets.keys()))\n",
    "print(\"Number of unique Drugs (names and DrugBank IDs) in Version 2:\", len(cleaned_pfxDB050620_dint.keys()))\n",
    "print(\"Number of unique Drugs (names and DrugBank IDs) union in both versions of the PathFX interaction databases: \" + str(len(all_drugs_union_pathfx_versions_lst)))\n",
    "print(\"Number of unique Drugs (names and DrugBank IDs) intersecting in both versions of the PathFX interaction databases: \" + str(len(all_drugs_intersecting_pathfx_versions_lst)))\n",
    "print(\"Number of unique Drugs (DrugBank ID only) in both versions of the PathFX interaction databases: \" + str(len(all_unique_drungbank_ids_both_pathfx_versions_lst)))\n",
    "print(\"Number of unique Drugs (noncomplex name only) in both versions of the PathFX interaction databases: \" + str(len(all_drug_names_both_pathfx_versions_lst)))\n",
    "print()"
   ]
  },
  {
   "cell_type": "code",
   "execution_count": null,
   "id": "c3014805-53e1-4b58-8791-ac2c6c7f9e91",
   "metadata": {},
   "outputs": [],
   "source": [
    "# ----- run_two_pathfx_versions -----\n",
    "\n",
    "# obtaining all listed drugs that have 0 bytes in the .xlsx files constructed from the combine_pathfx_version_association_tables.py script\n",
    "# these drugs cannot be inputted into the association_table_analysis pipeline\n",
    "zero_byte_drug_lst = [\"tetrahydrodeoxyuridine\", \"aminomethylcyclohexane\", \"arabinose-5-phosphate\", \"bendroflumethiazide\", \"bromodiphenhydramine\", \"carboxyatractyloside\", \"cyclohexyl-pentyl-maltoside\", \"cyclohexylformamide\", \"debromohymenialdisine\", \"dimethylthiambutene\", \n",
    "                      \"gamma-butyrolactone\", \"hydrochlorothiazide\", \"indane-5-sulfonamide\", \"lysophosphotidylserine\", \"methylphenobarbital\", \"monoisopropylphosphorylserine\", 'n-anthracen-2-yl-5-methyl[1,2,4]triazolo[1,5-a]pyrimidin-7-amine', \n",
    "                      \"n-cyclopropyl-4-pyrazolo[1,5-b]pyridazin-3-ylpyrimidin-2-amine\", \"pantothenoylaminoethenethiol\", \"phenoxymethylpenicillin\", \"phenylpropanolamine\", \"phosphatidylethanolamine\", \"phosphoenolpyruvate\", \"phosphorylisopropane\", \"tetrahydrodeoxyuridine\", \n",
    "                      \"thenoyltrifluoroacetone\", \"trifluoromethionine\"]\n",
    "\n",
    "drug_lst = all_drugs_union_pathfx_versions_lst\n",
    "\n",
    "for drug in zero_byte_drug_lst:\n",
    "    if drug in drug_lst:\n",
    "        drug_lst.remove(drug)\n",
    "\n",
    "print(len(drug_lst))\n",
    "\n",
    "total_drug_completed = 0\n",
    "\n",
    "for drug in drug_lst:\n",
    "    cmd = \"python run_two_pathfx_versions.py -d %s\"%(drug)\n",
    "    output = os.popen(cmd).read()\n",
    "    total_drug_completed = total_drug_completed + 1\n",
    "    if (total_drug_completed % 100) == 0:\n",
    "        print(\"Finished this many drugs:\", total_drug_completed)"
   ]
  },
  {
   "cell_type": "code",
   "execution_count": 8,
   "id": "1903d1eb",
   "metadata": {},
   "outputs": [
    {
     "name": "stdout",
     "output_type": "stream",
     "text": [
      "Finished this many drugs: 100\n",
      "Finished this many drugs: 200\n",
      "Finished this many drugs: 300\n",
      "Finished this many drugs: 400\n",
      "Finished this many drugs: 500\n",
      "Finished this many drugs: 600\n",
      "Finished this many drugs: 700\n",
      "Finished this many drugs: 800\n",
      "Finished this many drugs: 900\n",
      "Finished this many drugs: 1000\n",
      "Finished this many drugs: 1100\n",
      "Finished this many drugs: 1200\n",
      "Finished this many drugs: 1300\n",
      "Finished this many drugs: 1400\n",
      "Finished this many drugs: 1500\n",
      "Finished this many drugs: 1600\n",
      "Finished this many drugs: 1700\n",
      "Finished this many drugs: 1800\n"
     ]
    }
   ],
   "source": [
    "# ----- generate_pathfx_version_drug_association_table -----\n",
    "\n",
    "output_generate_pathfx_version_drug_association_table_folder = \"output_generate_pathfx_version_drug_association_table/\"\n",
    "check_directory_exists(output_generate_pathfx_version_drug_association_table_folder)\n",
    "\n",
    "ingrediants_df = read_csv_file(\"output_database_analysis/output_ingrediants_info/ingrediants_table.csv\")\n",
    "identified_ingrediants_lst = list(ingrediants_df[ingrediants_df[\"Ingrediant Type\"] == \"identified\"][\"Ingrediant\"])\n",
    "\n",
    "# obtaining all listed drugs that already have a .xlsx files constructed from the combine_pathfx_version_association_tables.py script\n",
    "all_finished_rtpv_drug_lst = [drug for drug in os.listdir(\"output_run_two_pathfx_versions/\")]\n",
    "all_finished_rtpv_drug_lst.sort()\n",
    "all_finished_rtpv_drug_lst.remove('.DS_Store')\n",
    "all_finished_rtpv_drug_lst = [drug_file_name[:-4] for drug_file_name in all_finished_rtpv_drug_lst]\n",
    "\n",
    "drug_lst = all_finished_rtpv_drug_lst\n",
    "\n",
    "total_drug_completed = 0\n",
    "\n",
    "for drug in drug_lst:\n",
    "    \n",
    "    input_drug_name = drug\n",
    "\n",
    "    #print(\"Running generate_pathfx_version_drug_association_table.ipynb for \" + drug + \" ...\")\n",
    "    %run ./generate_pathfx_version_drug_association_table.ipynb\n",
    "    #print(\"Finished Running generate_pathfx_version_drug_association_table.ipynb for \" + drug)\n",
    "    \n",
    "    total_drug_completed = total_drug_completed + 1\n",
    "    if (total_drug_completed % 100) == 0:\n",
    "        print(\"Finished this many drugs:\", total_drug_completed)"
   ]
  },
  {
   "cell_type": "code",
   "execution_count": null,
   "id": "8196a26e-0528-4be9-ab6a-abe5fcbb2c50",
   "metadata": {},
   "outputs": [],
   "source": [
    "# ----- combine_all_pathfx_version_association_tables -----\n",
    "\n",
    "print(\"Running combine_all_pathfx_version_association_tables.ipynb\")\n",
    "%run ./combine_all_pathfx_version_association_tables.ipynb\n",
    "print(\"Finished Running combine_all_pathfx_version_association_tables.ipynb\")\n"
   ]
  },
  {
   "cell_type": "code",
   "execution_count": null,
   "id": "9040a5d5-1728-4fe0-a2eb-d6aa0eb70e9f",
   "metadata": {},
   "outputs": [],
   "source": [
    "# ----- modify_all_pathfx_version_drug_association_super_table -----\n",
    "\n",
    "print(\"Running modify_all_pathfx_version_drug_association_super_table.ipynb\")\n",
    "%run ./modify_all_pathfx_version_drug_association_super_table.ipynb\n",
    "print(\"Finished Running modify_all_pathfx_version_drug_association_super_table.ipynb\")\n"
   ]
  },
  {
   "cell_type": "code",
   "execution_count": null,
   "id": "c46be0a4-1a7f-4bec-879f-652e9c33dec9",
   "metadata": {},
   "outputs": [],
   "source": []
  },
  {
   "cell_type": "code",
   "execution_count": null,
   "id": "2f353beb-4bea-4ceb-b3fa-89c52f3dd23b",
   "metadata": {},
   "outputs": [],
   "source": []
  },
  {
   "cell_type": "code",
   "execution_count": null,
   "id": "3aa0365e-79cf-4229-b029-04036564d9c6",
   "metadata": {},
   "outputs": [],
   "source": []
  },
  {
   "cell_type": "code",
   "execution_count": null,
   "id": "39c26e25-648b-41a4-9153-2015c00f19cf",
   "metadata": {},
   "outputs": [],
   "source": []
  },
  {
   "cell_type": "code",
   "execution_count": null,
   "id": "37d99efd-5f45-45da-b559-866fa13e1643",
   "metadata": {},
   "outputs": [],
   "source": []
  },
  {
   "cell_type": "code",
   "execution_count": null,
   "id": "1f11215f-642d-4952-8834-bc6a65e70129",
   "metadata": {},
   "outputs": [],
   "source": []
  },
  {
   "cell_type": "code",
   "execution_count": null,
   "id": "3fd3eff6-c24f-4b6e-80bf-ebdebf4cb647",
   "metadata": {},
   "outputs": [],
   "source": []
  },
  {
   "cell_type": "code",
   "execution_count": null,
   "id": "1cd54522-b4e2-42ef-a880-f8cedec6f0cf",
   "metadata": {},
   "outputs": [],
   "source": []
  }
 ],
 "metadata": {
  "kernelspec": {
   "display_name": "Python 3",
   "language": "python",
   "name": "python3"
  },
  "language_info": {
   "codemirror_mode": {
    "name": "ipython",
    "version": 3
   },
   "file_extension": ".py",
   "mimetype": "text/x-python",
   "name": "python",
   "nbconvert_exporter": "python",
   "pygments_lexer": "ipython3",
   "version": "3.7.11"
  }
 },
 "nbformat": 4,
 "nbformat_minor": 5
}
