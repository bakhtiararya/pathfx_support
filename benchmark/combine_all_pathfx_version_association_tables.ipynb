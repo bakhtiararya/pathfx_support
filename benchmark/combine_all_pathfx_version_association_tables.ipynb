{
 "cells": [
  {
   "cell_type": "code",
   "execution_count": 2,
   "id": "0d4810e0-f839-4323-95e7-3cbd578e11d5",
   "metadata": {},
   "outputs": [],
   "source": [
    "import random\n",
    "from random import sample\n",
    "import matplotlib\n",
    "import matplotlib.pyplot as plt\n",
    "import numpy as np\n",
    "import pandas as pd\n",
    "import os\n",
    "import sys\n",
    "import warnings\n",
    "import xlrd\n",
    "import itertools\n",
    "from functools import partial\n",
    "warnings.simplefilter(action='ignore', category=FutureWarning)\n",
    "import matplotlib as mpl\n",
    "mpl.use('TkAgg')\n",
    "import itertools\n",
    "import re\n",
    "import ast\n",
    "\n",
    "np.random.seed(0)"
   ]
  },
  {
   "cell_type": "code",
   "execution_count": 3,
   "id": "27d7837d-a59c-4f43-b9e6-a699e836d7ec",
   "metadata": {},
   "outputs": [],
   "source": [
    "\"\"\"\n",
    "Helper Functions\n",
    "\"\"\"\n",
    "\n",
    "# function checks if directory exists, if not it constructs it\n",
    "def check_directory_exists(dir_name):\n",
    "    if not os.path.exists(dir_name):\n",
    "        os.makedirs(dir_name)\n",
    "    \n",
    "# Read in a CSV file\n",
    "def read_csv_file(file_path, input_sep=',', input_delimiter=None, input_index_col=None, input_dtype=None, input_delim_whitespace=False, input_low_memory=True):\n",
    "    if not os.path.exists(file_path):\n",
    "        sys.exit(\"Can't locate input file %s\" % file_path)\n",
    "    return pd.read_csv(filepath_or_buffer=file_path, sep=input_sep, delimiter=None, index_col=input_index_col, dtype=input_dtype, delim_whitespace=input_delim_whitespace, low_memory=input_low_memory)\n",
    "\n",
    "# funcion saves DataFrame or list to as a textfile\n",
    "def save_to_csv_file(output_folder_dest, df, csv_file_name, input_index=False, show_print_out=False):\n",
    "    output_filename = output_folder_dest + csv_file_name + \".csv\"\n",
    "    df.to_csv(output_filename, index=input_index)\n",
    "    if(show_print_out):\n",
    "        print(\"Constructed and saved\", output_filename)"
   ]
  },
  {
   "cell_type": "code",
   "execution_count": 4,
   "id": "3eacac3a-35ac-4f74-ad03-01d5a10299bb",
   "metadata": {},
   "outputs": [],
   "source": [
    "output_combine_all_pathfx_version_drug_association_tables_folder = \"output_combine_all_pathfx_version_drug_association_tables/\"\n",
    "check_directory_exists(output_combine_all_pathfx_version_drug_association_tables_folder)"
   ]
  },
  {
   "cell_type": "code",
   "execution_count": 5,
   "id": "61c674e4-1227-4e16-8cbc-82c918f2c9f9",
   "metadata": {},
   "outputs": [
    {
     "name": "stdout",
     "output_type": "stream",
     "text": [
      "This many drug files need to be processed 1881\n",
      "\tFinished reading 50 drug files\n",
      "\tFinished reading 100 drug files\n",
      "\tFinished reading 150 drug files\n",
      "\tFinished reading 200 drug files\n",
      "\tFinished reading 250 drug files\n",
      "\tFinished reading 300 drug files\n",
      "\tFinished reading 350 drug files\n",
      "\tFinished reading 400 drug files\n",
      "\tFinished reading 450 drug files\n",
      "\tFinished reading 500 drug files\n",
      "\tFinished reading 550 drug files\n",
      "\tFinished reading 600 drug files\n",
      "\tFinished reading 650 drug files\n",
      "\tFinished reading 700 drug files\n",
      "\tFinished reading 750 drug files\n",
      "\tFinished reading 800 drug files\n",
      "\tFinished reading 850 drug files\n",
      "\tFinished reading 900 drug files\n",
      "\tFinished reading 950 drug files\n",
      "\tFinished reading 1000 drug files\n",
      "\tFinished reading 1050 drug files\n",
      "\tFinished reading 1100 drug files\n",
      "\tFinished reading 1150 drug files\n",
      "\tFinished reading 1200 drug files\n",
      "\tFinished reading 1250 drug files\n",
      "\tFinished reading 1300 drug files\n",
      "\tFinished reading 1350 drug files\n",
      "\tFinished reading 1400 drug files\n",
      "\tFinished reading 1450 drug files\n",
      "\tFinished reading 1500 drug files\n",
      "\tFinished reading 1550 drug files\n",
      "\tFinished reading 1600 drug files\n",
      "\tFinished reading 1650 drug files\n",
      "\tFinished reading 1700 drug files\n",
      "\tFinished reading 1750 drug files\n",
      "\tFinished reading 1800 drug files\n",
      "\tFinished reading 1850 drug files\n"
     ]
    }
   ],
   "source": [
    "\"\"\"\n",
    "For all the association tables found for every drug, stack them all on top of one another\n",
    "\"\"\"\n",
    "        \n",
    "all_pathfx_version_drug_association_tables_lst = [drug for drug in os.listdir(\"output_generate_pathfx_version_drug_association_table/\")]\n",
    "all_pathfx_version_drug_association_tables_lst.sort()\n",
    "all_pathfx_version_drug_association_tables_lst.remove('.DS_Store')\n",
    "\n",
    "all_pathfx_version_drug_association_super_df = pd.DataFrame()\n",
    "count = 0\n",
    "print(\"This many drug files need to be processed\", len(all_pathfx_version_drug_association_tables_lst))\n",
    "for drug in all_pathfx_version_drug_association_tables_lst:\n",
    "    file_path = \"output_generate_pathfx_version_drug_association_table/\" + drug + \"/\" + drug + \"_super_association_table.csv\"\n",
    "    df = read_csv_file(file_path, input_dtype=object)\n",
    "    all_pathfx_version_drug_association_super_df = pd.concat([all_pathfx_version_drug_association_super_df, df])\n",
    "    del df\n",
    "    count = count + 1\n",
    "    if count % 50 == 0:\n",
    "        print(\"\\tFinished reading \" + str(count) + \" drug files\")\n",
    " \n",
    "save_to_csv_file(output_combine_all_pathfx_version_drug_association_tables_folder, all_pathfx_version_drug_association_super_df, \"all_pathfx_version_drug_association_super_table\")"
   ]
  },
  {
   "cell_type": "code",
   "execution_count": null,
   "id": "f555f62f-db4a-4910-bf71-0689e55732b2",
   "metadata": {},
   "outputs": [],
   "source": []
  }
 ],
 "metadata": {
  "kernelspec": {
   "display_name": "Python 3",
   "language": "python",
   "name": "python3"
  },
  "language_info": {
   "codemirror_mode": {
    "name": "ipython",
    "version": 3
   },
   "file_extension": ".py",
   "mimetype": "text/x-python",
   "name": "python",
   "nbconvert_exporter": "python",
   "pygments_lexer": "ipython3",
   "version": "3.7.11"
  }
 },
 "nbformat": 4,
 "nbformat_minor": 5
}
