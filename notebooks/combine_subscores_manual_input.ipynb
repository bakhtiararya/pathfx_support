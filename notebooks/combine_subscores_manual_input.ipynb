{
 "cells": [
  {
   "cell_type": "code",
   "execution_count": 1,
   "id": "65528a03",
   "metadata": {},
   "outputs": [],
   "source": [
    "from __future__ import print_function\n",
    "import numpy as np\n",
    "import pandas as pd\n",
    "import os\n",
    "import sys\n",
    "import warnings\n",
    "warnings.simplefilter(action='ignore', category=FutureWarning)"
   ]
  },
  {
   "cell_type": "code",
   "execution_count": 2,
   "id": "2acb577f",
   "metadata": {},
   "outputs": [],
   "source": [
    "def compute_prior_away(score, prior):\n",
    "\n",
    "    if score < prior: score = prior\n",
    "    score_no_prior = (score - prior) / (1 - prior)\n",
    "\n",
    "    return score_no_prior"
   ]
  },
  {
   "cell_type": "code",
   "execution_count": 3,
   "id": "f58d84de",
   "metadata": {},
   "outputs": [],
   "source": [
    "prior = 0.041"
   ]
  },
  {
   "cell_type": "code",
   "execution_count": 12,
   "id": "14e901ab",
   "metadata": {},
   "outputs": [],
   "source": [
    "# Subscores \n",
    "\n",
    "neighborhood = 0\n",
    "neighborhood_transferred = 0\n",
    "fusion = 0\n",
    "cooccurrence = 0\n",
    "homology = 0\n",
    "coexpression = 0\n",
    "coexpression_transferred = 0\n",
    "experiments = 0\n",
    "experiments_transferred = 0\n",
    "database = 0\n",
    "database_transferred = 0\n",
    "textmining = 0\n",
    "textmining_transferred = 0\n",
    "initial_combined = 0"
   ]
  },
  {
   "cell_type": "code",
   "execution_count": 13,
   "id": "0dc5c1d0",
   "metadata": {},
   "outputs": [],
   "source": [
    "## divide by 1000\n",
    "\n",
    "neighborhood = float(neighborhood) / 1000\n",
    "neighborhood_transferred = float(neighborhood_transferred) / 1000\n",
    "fusion = float(fusion) / 1000\n",
    "cooccurrence =  float(cooccurrence) / 1000\n",
    "homology = float(homology) / 1000\n",
    "coexpression = float(coexpression) / 1000\n",
    "coexpression_transferred = float(coexpression_transferred) / 1000\n",
    "experiments = float(experiments) / 1000\n",
    "experiments_transferred = float(experiments_transferred) / 1000\n",
    "database = float(database) / 1000\n",
    "database_transferred = float(database_transferred) / 1000\n",
    "textmining = float(textmining) / 1000\n",
    "textmining_transferred = float(textmining_transferred) / 1000\n",
    "initial_combined = int(initial_combined)"
   ]
  },
  {
   "cell_type": "code",
   "execution_count": 14,
   "id": "e0b16f83",
   "metadata": {},
   "outputs": [
    {
     "name": "stdout",
     "output_type": "stream",
     "text": [
      "neighborhood_prior_corrected: 0.0\n",
      "neighborhood_transferred_prior_corrected: 0.0\n",
      "fusion_prior_corrected: 0.0\n",
      "cooccurrence_prior_corrected: 0.0\n",
      "coexpression_prior_corrected: 0.0\n",
      "coexpression_transferred_prior_corrected: 0.0\n",
      "experiments_prior_corrected: 0.0\n",
      "experiments_transferred_prior_corrected: 0.0\n",
      "database_prior_corrected: 0.0\n",
      "database_transferred_prior_corrected: 0.0\n",
      "textmining_prior_corrected: 0.0\n",
      "textmining_transferred_prior_corrected: 0.0\n"
     ]
    }
   ],
   "source": [
    "## compute prior away\n",
    "\n",
    "neighborhood_prior_corrected                 = compute_prior_away (neighborhood, prior)             \n",
    "neighborhood_transferred_prior_corrected     = compute_prior_away (neighborhood_transferred, prior) \n",
    "fusion_prior_corrected                       = compute_prior_away (fusion, prior)             \n",
    "cooccurrence_prior_corrected                 = compute_prior_away (cooccurrence, prior)           \n",
    "coexpression_prior_corrected                 = compute_prior_away (coexpression, prior)            \n",
    "coexpression_transferred_prior_corrected     = compute_prior_away (coexpression_transferred, prior) \n",
    "experiments_prior_corrected                  = compute_prior_away (experiments, prior)   \n",
    "experiments_transferred_prior_corrected      = compute_prior_away (experiments_transferred, prior) \n",
    "database_prior_corrected                     = compute_prior_away (database, prior)      \n",
    "database_transferred_prior_corrected         = compute_prior_away (database_transferred, prior)\n",
    "textmining_prior_corrected                   = compute_prior_away (textmining, prior)            \n",
    "textmining_transferred_prior_corrected       = compute_prior_away (textmining_transferred, prior)\n",
    "\n",
    "print(\"neighborhood_prior_corrected:\", neighborhood_prior_corrected)                        \n",
    "print(\"neighborhood_transferred_prior_corrected:\", neighborhood_transferred_prior_corrected)\n",
    "print(\"fusion_prior_corrected:\", fusion_prior_corrected)            \n",
    "print(\"cooccurrence_prior_corrected:\", cooccurrence_prior_corrected)                         \n",
    "print(\"coexpression_prior_corrected:\", coexpression_prior_corrected)                        \n",
    "print(\"coexpression_transferred_prior_corrected:\", coexpression_transferred_prior_corrected)    \n",
    "print(\"experiments_prior_corrected:\", experiments_prior_corrected)    \n",
    "print(\"experiments_transferred_prior_corrected:\", experiments_transferred_prior_corrected)     \n",
    "print(\"database_prior_corrected:\", database_prior_corrected)          \n",
    "print(\"database_transferred_prior_corrected:\", database_transferred_prior_corrected)        \n",
    "print(\"textmining_prior_corrected:\", textmining_prior_corrected)             \n",
    "print(\"textmining_transferred_prior_corrected:\", textmining_transferred_prior_corrected)    "
   ]
  },
  {
   "cell_type": "code",
   "execution_count": 15,
   "id": "eee26bee",
   "metadata": {},
   "outputs": [
    {
     "name": "stdout",
     "output_type": "stream",
     "text": [
      "neighborhood_both_prior_corrected: 0.0\n",
      "coexpression_both_prior_corrected: 0.0\n",
      "experiments_both_prior_corrected: 0.0\n",
      "database_both_prior_corrected: 0.0\n",
      "textmining_both_prior_corrected: 0.0\n"
     ]
    }
   ],
   "source": [
    "## then, combine the direct and transferred scores for each category:\n",
    "\n",
    "neighborhood_both_prior_corrected = 1.0 - (1.0 - neighborhood_prior_corrected) * (1.0 - neighborhood_transferred_prior_corrected)\n",
    "coexpression_both_prior_corrected = 1.0 - (1.0 - coexpression_prior_corrected) * (1.0 - coexpression_transferred_prior_corrected)\n",
    "experiments_both_prior_corrected = 1.0 - (1.0 - experiments_prior_corrected) * (1.0 - experiments_transferred_prior_corrected)\n",
    "database_both_prior_corrected = 1.0 - (1.0 - database_prior_corrected) * (1.0 - database_transferred_prior_corrected)\n",
    "textmining_both_prior_corrected = 1.0 - (1.0 - textmining_prior_corrected) * (1.0 - textmining_transferred_prior_corrected)\n",
    "\n",
    "print(\"neighborhood_both_prior_corrected:\", neighborhood_both_prior_corrected)    \n",
    "print(\"coexpression_both_prior_corrected:\", coexpression_both_prior_corrected)    \n",
    "print(\"experiments_both_prior_corrected:\", experiments_both_prior_corrected)    \n",
    "print(\"database_both_prior_corrected:\", database_both_prior_corrected)    \n",
    "print(\"textmining_both_prior_corrected:\", textmining_both_prior_corrected)    "
   ]
  },
  {
   "cell_type": "code",
   "execution_count": 16,
   "id": "b0161ee3",
   "metadata": {},
   "outputs": [
    {
     "name": "stdout",
     "output_type": "stream",
     "text": [
      "cooccurrence_prior_homology_corrected: 0.0\n",
      "textmining_both_prior_homology_corrected: 0.0\n"
     ]
    }
   ],
   "source": [
    "## now, do the homology correction on cooccurrence and textmining:\n",
    "\n",
    "cooccurrence_prior_homology_corrected = cooccurrence_prior_corrected * (1.0 - homology)\n",
    "textmining_both_prior_homology_corrected = textmining_both_prior_corrected * (1.0 - homology)\n",
    "\n",
    "print(\"cooccurrence_prior_homology_corrected:\", cooccurrence_prior_homology_corrected)    \n",
    "print(\"textmining_both_prior_homology_corrected:\", textmining_both_prior_homology_corrected)    "
   ]
  },
  {
   "cell_type": "code",
   "execution_count": 17,
   "id": "eea41bb6",
   "metadata": {},
   "outputs": [
    {
     "name": "stdout",
     "output_type": "stream",
     "text": [
      "combined_score_one_minus: 1.0\n"
     ]
    }
   ],
   "source": [
    "## next, do the 1 - multiplication:\n",
    "\n",
    "combined_score_one_minus = (\n",
    "    (1.0 - neighborhood_both_prior_corrected) *\n",
    "    (1.0 - fusion_prior_corrected) *\n",
    "    (1.0 - cooccurrence_prior_homology_corrected) *\n",
    "    (1.0 - coexpression_both_prior_corrected) *\n",
    "    (1.0 - experiments_both_prior_corrected) *\n",
    "    (1.0 - database_both_prior_corrected) *\n",
    "    (1.0 - textmining_both_prior_homology_corrected) ) \n",
    "\n",
    "print(\"combined_score_one_minus:\", combined_score_one_minus)"
   ]
  },
  {
   "cell_type": "code",
   "execution_count": 18,
   "id": "69f4d1b3",
   "metadata": {},
   "outputs": [
    {
     "name": "stdout",
     "output_type": "stream",
     "text": [
      "combined_score: 0.041\n"
     ]
    }
   ],
   "source": [
    "## and lastly, do the 1 - conversion again, and put back the prior *exactly once*\n",
    "\n",
    "combined_score = (1.0 - combined_score_one_minus)            ## 1- conversion\n",
    "combined_score *= (1.0 - prior)                              ## scale down\n",
    "combined_score += prior                                      ## and add prior.\n",
    "print(\"combined_score:\", combined_score)"
   ]
  },
  {
   "cell_type": "code",
   "execution_count": 19,
   "id": "fa6f1b72",
   "metadata": {},
   "outputs": [
    {
     "name": "stdout",
     "output_type": "stream",
     "text": [
      "combined_score: 41\n"
     ]
    }
   ],
   "source": [
    "## round\n",
    "\n",
    "combined_score = int(combined_score * 1000)\n",
    "print(\"combined_score:\", combined_score)"
   ]
  }
 ],
 "metadata": {
  "kernelspec": {
   "display_name": "Python 3",
   "language": "python",
   "name": "python3"
  },
  "language_info": {
   "codemirror_mode": {
    "name": "ipython",
    "version": 3
   },
   "file_extension": ".py",
   "mimetype": "text/x-python",
   "name": "python",
   "nbconvert_exporter": "python",
   "pygments_lexer": "ipython3",
   "version": "3.7.11"
  }
 },
 "nbformat": 4,
 "nbformat_minor": 5
}
